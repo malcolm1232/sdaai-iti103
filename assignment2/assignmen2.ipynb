{
 "cells": [
  {
   "cell_type": "markdown",
   "metadata": {
    "colab_type": "text",
    "id": "view-in-github"
   },
   "source": [
    "<a href=\"https://colab.research.google.com/github/nyp-sit/sdaai-iti103/blob/master/assignment2/assignment2.ipynb\" target=\"_parent\"><img src=\"https://colab.research.google.com/assets/colab-badge.svg\" alt=\"Open In Colab\"/></a>"
   ]
  },
  {
   "cell_type": "markdown",
   "metadata": {
    "colab_type": "text",
    "id": "pTwSmAeVg5uz"
   },
   "source": [
    "## Practical Assignment 2 ##\n",
    "\n",
    "In this assignment, you will be working on a binary classification task: predict if a passenger survive or die in an transport accident.  \n",
    "\n",
    "Plese answer **ALL** the questions below (Question 1 to 13). You may refer to online documentation (e.g. scikit-learn, pandas, etc) for help on syntax. No copying of codes wholesale is allowed.\n",
    "\n",
    "_**Note**: Use a random_state = 42 where appropriate_\n",
    "\n",
    "#### maximum marks = 30 ###"
   ]
  },
  {
   "cell_type": "code",
   "execution_count": null,
   "metadata": {
    "colab": {},
    "colab_type": "code",
    "id": "36tkrf4xaE6w"
   },
   "outputs": [],
   "source": [
    "import pandas as pd\n",
    "import numpy as np\n",
    "import matplotlib.pyplot as plt\n"
   ]
  },
  {
   "cell_type": "markdown",
   "metadata": {
    "colab_type": "text",
    "id": "NsgXwHRpCR-p"
   },
   "source": [
    "**Question 1** (1 mark)\n",
    "\n",
    "Load the dataset csv file from https://raw.githubusercontent.com/nyp-sit/sdaai-iti103/master/assignment2/passengerdata.csv and display the first 10 rows of data"
   ]
  },
  {
   "cell_type": "markdown",
   "metadata": {},
   "source": [
    "_Desription of the data_\n",
    "\n",
    "|Variable|Definition|Key|\n",
    "|--|--|--|\n",
    "|Survived|Survival|0 = No, 1 = Yes|\n",
    "|Class|Ticket class\n",
    "|Sex|Sex||\n",
    "|Age|Age in years||\n",
    "|NoSiblingSpouse|# of siblings or spouses onboard||\n",
    "|NoParentsChildren|# of parents or children onboard ||\n",
    "|TicketNo|Ticket numer||\n",
    "|Fare|Passenger fare||\n",
    "|CabinNo|Cabin number||\n",
    "|EmbarkationPort|Port of Embarkation|C = Cherbourg, Q = Queenstown, S = Southampton|\n",
    "\n"
   ]
  },
  {
   "cell_type": "code",
   "execution_count": null,
   "metadata": {
    "colab": {
     "base_uri": "https://localhost:8080/",
     "height": 247
    },
    "colab_type": "code",
    "id": "fAZ7w9i9bdWH",
    "outputId": "03fd7a2b-03fa-4dd7-e38e-4996ca616022"
   },
   "outputs": [],
   "source": [
    "### START YOUR CODE HERE ###\n",
    "\n",
    "    \n",
    "### END YOUR CODE HERE ###"
   ]
  },
  {
   "cell_type": "markdown",
   "metadata": {
    "colab_type": "text",
    "id": "gOk7W7wKCPWY"
   },
   "source": [
    "**Question 2**  (2 marks)\n",
    "\n",
    "Inspect the dataframe to see which are categorical values and if there is any missing values. \n",
    "\n",
    "After you complete the code in the code cell, answer the following questions here by entering your answers in this markdown cell:\n",
    "\n",
    "1.  Which are the categorical column(s)? List the column names.  \n",
    "2.  Which columns have missing values? List the column names.  "
   ]
  },
  {
   "cell_type": "code",
   "execution_count": null,
   "metadata": {
    "colab": {
     "base_uri": "https://localhost:8080/",
     "height": 318
    },
    "colab_type": "code",
    "id": "18PiFDdUgulz",
    "outputId": "a6ce2062-35f9-41a9-ebac-3dfe95df5c14"
   },
   "outputs": [],
   "source": [
    "### START YOUR CODE HERE ###\n",
    "\n",
    "\n",
    "\n",
    "### END YOUR CODE HERE ###"
   ]
  },
  {
   "cell_type": "markdown",
   "metadata": {
    "colab_type": "text",
    "id": "LL7CtXBhDCaD"
   },
   "source": [
    "**Question 3** (6 marks)\n",
    "\n",
    "Encode appropriate categorical features using one-hot-encoding.  You may decide to drop certain categorical features that are not relevant to whether the person survived or not.  "
   ]
  },
  {
   "cell_type": "code",
   "execution_count": null,
   "metadata": {
    "colab": {
     "base_uri": "https://localhost:8080/",
     "height": 197
    },
    "colab_type": "code",
    "id": "aU1KxEWiiflX",
    "outputId": "9307a523-7bae-4079-ddc0-905f47524992"
   },
   "outputs": [],
   "source": [
    "### START YOUR CODE HERE ###\n",
    "\n",
    "\n",
    "\n",
    "### END YOUR CODE HERE ###"
   ]
  },
  {
   "cell_type": "markdown",
   "metadata": {
    "colab_type": "text",
    "id": "AJNmCD6qCs2J"
   },
   "source": [
    "**Question 4**  (6 marks)\n",
    "\n",
    "Formulate your strategy to deal with the missing data.  You may decide to drop the column, fill it with default values, or remove the rows.  Give reasons for the strategy used when dealing with these missing values (write your reasons in the space below 'Answer' in this cell). Then write the codes to deal with missing values in the code cell below.\n",
    "\n",
    "***Answer***: \n",
    "\n",
    "<your answer here>\n"
   ]
  },
  {
   "cell_type": "code",
   "execution_count": null,
   "metadata": {},
   "outputs": [],
   "source": [
    "### START YOUR CODE HERE ###\n",
    "\n",
    "\n",
    "\n",
    "### END YOUR CODE HERE ###"
   ]
  },
  {
   "cell_type": "markdown",
   "metadata": {
    "colab_type": "text",
    "id": "hj4TMZgZE6xa"
   },
   "source": [
    "**Question 5** (2 marks)\n",
    "\n",
    "You want to build a model to predict how likely a passenger will survive in the case of train crash.  Create the ```X_train, y_train, X_test, y_test``` from the given dataset.\n"
   ]
  },
  {
   "cell_type": "code",
   "execution_count": null,
   "metadata": {},
   "outputs": [],
   "source": [
    "### START YOUR CODE HERE ###\n",
    "\n",
    "\n",
    "### END YOUR CODE HERE ###"
   ]
  },
  {
   "cell_type": "markdown",
   "metadata": {},
   "source": [
    "**Question 6** (2 marks)\n",
    "\n",
    "Evaluate how well your model will perform (in terms of `accuracy`) with a LogisticRegression classifier using 5-fold cross-validation. For the Logistic Regressor, specify `liblinear` as the solver. \n",
    "\n",
    "Calculate the mean validation accuracy. "
   ]
  },
  {
   "cell_type": "code",
   "execution_count": null,
   "metadata": {
    "colab": {
     "base_uri": "https://localhost:8080/",
     "height": 72
    },
    "colab_type": "code",
    "id": "cl88WinLl-oL",
    "outputId": "2227b489-1900-4f95-9885-aca636392674"
   },
   "outputs": [],
   "source": [
    "### START YOUR CODE HERE ###\n",
    "\n",
    "\n",
    "### END YOUR CODE HERE ### \n"
   ]
  },
  {
   "cell_type": "markdown",
   "metadata": {
    "colab_type": "text",
    "id": "WTu-s8R4FVef"
   },
   "source": [
    "**Question 7** (2 marks)\n",
    "\n",
    "Using 5-fold cross-validation, compute the following: \n",
    "- confusion matrix\n",
    "- precision \n",
    "- recall\n",
    "- f1 score"
   ]
  },
  {
   "cell_type": "code",
   "execution_count": null,
   "metadata": {
    "colab": {
     "base_uri": "https://localhost:8080/",
     "height": 143
    },
    "colab_type": "code",
    "id": "nrH8mtMtpLGx",
    "outputId": "b8b73edb-cde2-47f6-ce26-f845a5eaf0b4"
   },
   "outputs": [],
   "source": [
    "### START YOUR CODE HERE \n",
    "\n",
    "\n",
    "\n",
    "### END YOUR CODE HERE ###  "
   ]
  },
  {
   "cell_type": "markdown",
   "metadata": {
    "colab_type": "text",
    "id": "R7mxT4DCFpWP"
   },
   "source": [
    "**Question 8**  (3 marks)\n",
    "\n",
    "Assuming we want to increase the precision score to 0.8, compute the new recall score. Again, use 5-fold cross-validation for your computation. "
   ]
  },
  {
   "cell_type": "code",
   "execution_count": null,
   "metadata": {
    "colab": {
     "base_uri": "https://localhost:8080/",
     "height": 143
    },
    "colab_type": "code",
    "id": "OWIvAquHpoDr",
    "outputId": "0246fef7-c165-49dd-f7af-c6865094d505"
   },
   "outputs": [],
   "source": [
    "## START YOUR CODE HERE ### \n",
    "\n",
    "\n",
    "### END CODE HERE ###\n"
   ]
  },
  {
   "cell_type": "markdown",
   "metadata": {
    "colab_type": "text",
    "id": "ijLYur0EF3ZW"
   },
   "source": [
    "**Question 9** (2 marks)\n",
    "\n",
    "Receiver Operating Characteristic (ROC) curve is a plot of the true positive rate (TPR) against the false postivie rate (FPR).  \n",
    "- Plot the ROC curve to show the tradeoff between TPR and FPR.\n",
    "- Calculate the ROC AUC (Area Under Curve) score."
   ]
  },
  {
   "cell_type": "code",
   "execution_count": null,
   "metadata": {
    "colab": {},
    "colab_type": "code",
    "id": "qCjIjgaDsWFx"
   },
   "outputs": [],
   "source": [
    "### START YOUR CODE HERE ###\n",
    "\n",
    "\n",
    "### END YOUR CODE HERE ###"
   ]
  },
  {
   "cell_type": "markdown",
   "metadata": {},
   "source": [
    "**Question 10** (2 marks)\n",
    "\n",
    "Tune your model to find the best performing model. (Hint: you can ALSO try different solver for LogisticRegression)"
   ]
  },
  {
   "cell_type": "code",
   "execution_count": null,
   "metadata": {},
   "outputs": [],
   "source": [
    "### START YOUR CODE HERE ###\n",
    "\n",
    "\n",
    "\n",
    "### END YOUR CODE HERE ###"
   ]
  },
  {
   "cell_type": "markdown",
   "metadata": {
    "colab_type": "text",
    "id": "rudZ4ay6F7I3"
   },
   "source": [
    "**Question 11** (1 marks) \n",
    "\n",
    "Assume you are satisfied with your model. Now test your model on the test set. \n",
    "\n",
    "1. Calculate your test accuracy \n",
    "2. Calculate your train accuracy\n",
    "\n",
    "Write your code in the following code cell.\n"
   ]
  },
  {
   "cell_type": "code",
   "execution_count": null,
   "metadata": {
    "colab_type": "text",
    "id": "OahSCwe0usxP"
   },
   "outputs": [],
   "source": [
    "### START YOUR CODE HERE ###\n",
    "\n",
    "\n",
    "\n",
    "### END YOUR CODE HERE ###"
   ]
  },
  {
   "cell_type": "markdown",
   "metadata": {},
   "source": [
    "**Question 12** (1 mark)\n",
    "\n",
    "Determine if the model is overfitting. Justify your answer.\n",
    "\n",
    "You can write your answer in the following markdown cell."
   ]
  },
  {
   "cell_type": "markdown",
   "metadata": {},
   "source": [
    "**Answer:** "
   ]
  },
  {
   "cell_type": "markdown",
   "metadata": {},
   "source": [
    "**Question 13 (Bonus Question)** (1 marks)\n",
    "\n",
    "Which one of the features is the most impotant in determining the survival rate?  (Pclass, Age, SibSp, Parch, Fare, Sex, Embarkment). Write your answer in the markdown cell.  You can show your code on how to obtain the answer in the code \n",
    "cell below\n",
    "\n",
    "**Answer**"
   ]
  },
  {
   "cell_type": "code",
   "execution_count": null,
   "metadata": {},
   "outputs": [],
   "source": [
    "### START YOUR CODE HERE ###\n",
    "\n",
    "\n",
    "\n",
    "### END YOUR CODE HERE ###"
   ]
  }
 ],
 "metadata": {
  "colab": {
   "collapsed_sections": [],
   "include_colab_link": true,
   "name": "Practical Test.ipynb",
   "provenance": [],
   "version": "0.3.2"
  },
  "kernelspec": {
   "display_name": "Python 3.8 (mlenv)",
   "language": "python",
   "name": "mlenv"
  },
  "language_info": {
   "codemirror_mode": {
    "name": "ipython",
    "version": 3
   },
   "file_extension": ".py",
   "mimetype": "text/x-python",
   "name": "python",
   "nbconvert_exporter": "python",
   "pygments_lexer": "ipython3",
   "version": "3.8.3"
  }
 },
 "nbformat": 4,
 "nbformat_minor": 4
}
