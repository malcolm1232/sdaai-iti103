{
 "cells": [
  {
   "cell_type": "markdown",
   "metadata": {},
   "source": [
    "<a href=\"https://colab.research.google.com/github/nyp-sit/sdaai-iti103/blob/master/session-5/data_leakage_cv.ipynb\" target=\"_parent\"><img src=\"https://colab.research.google.com/assets/colab-badge.svg\" alt=\"Open In Colab\"/></a>"
   ]
  },
  {
   "cell_type": "markdown",
   "metadata": {},
   "source": [
    "# Data Leakage in Cross Validation\n",
    "\n",
    "The impact of data leakage in the cross-validation varies, depending on what kind of pre-processing. Estimate the scaling factor, e.g. as described in lecture, usually does not have a large impact, but for others such as feature extraction or feature selection, data leakage can lead to vast differences in the model 'true' predictive power. \n",
    "\n",
    "The purpose of this exercise is to illustrate the impact of data leakage on model's accuracy.  It is based on an excellent example from Elements of Statistical Learning (by Trevor Hastie, et al.), from the section *The Wrong and Eight Way to Do Cross-validation*. "
   ]
  },
  {
   "cell_type": "markdown",
   "metadata": {},
   "source": [
    "## Generate Data"
   ]
  },
  {
   "cell_type": "markdown",
   "metadata": {},
   "source": [
    "Let’s consider a synthetic classification task with 100 samples and\n",
    "1,000 features that are sampled independently from a Gaussian distribution. We also\n",
    "randomly sample the response from \\[0,1\\] for binary labels."
   ]
  },
  {
   "cell_type": "code",
   "execution_count": 1,
   "metadata": {},
   "outputs": [],
   "source": [
    "import numpy as np\n",
    "\n",
    "rnd = np.random.RandomState(seed=0)\n",
    "\n",
    "# generate 100 samples with 10000 features from Normal distribution\n",
    "X = rnd.normal(size=(1000, 10000))\n",
    "\n",
    "# generate 100 binary labels with equal probability\n",
    "y =  np.random.choice([0, 1], size=(1000,), p=[0.5, 0.5])"
   ]
  },
  {
   "cell_type": "code",
   "execution_count": 2,
   "metadata": {},
   "outputs": [
    {
     "data": {
      "text/plain": [
       "((1000, 10000), (1000,))"
      ]
     },
     "execution_count": 2,
     "metadata": {},
     "output_type": "execute_result"
    }
   ],
   "source": [
    "X.shape, y.shape"
   ]
  },
  {
   "cell_type": "markdown",
   "metadata": {},
   "source": [
    "Given that X and y are sampled independently from the distribution, there should not be any relation between X and y, and the expected test error rate should be around 50%. "
   ]
  },
  {
   "cell_type": "markdown",
   "metadata": {},
   "source": [
    "## Feature Selection"
   ]
  },
  {
   "cell_type": "markdown",
   "metadata": {},
   "source": [
    "First, select the most informative of the features using SelectPercentile feature selection, and then we evaluate a LogisticRegressor using cross-validation."
   ]
  },
  {
   "cell_type": "code",
   "execution_count": 3,
   "metadata": {},
   "outputs": [
    {
     "name": "stdout",
     "output_type": "stream",
     "text": [
      "X_selected.shape: (800, 500)\n"
     ]
    }
   ],
   "source": [
    "from sklearn.feature_selection import SelectPercentile, f_regression\n",
    "from sklearn.model_selection import train_test_split\n",
    "\n",
    "X_train, X_test, y_train, y_test = train_test_split(X, y, test_size=0.2)\n",
    "\n",
    "select = SelectPercentile(score_func=f_regression, percentile=5).fit(X_train, y_train)\n",
    "X_selected = select.transform(X_train)\n",
    "\n",
    "print(\"X_selected.shape: {}\".format(X_selected.shape))"
   ]
  },
  {
   "cell_type": "markdown",
   "metadata": {},
   "source": [
    "## Cross Validation "
   ]
  },
  {
   "cell_type": "code",
   "execution_count": 4,
   "metadata": {},
   "outputs": [
    {
     "name": "stdout",
     "output_type": "stream",
     "text": [
      "Cross-validation accuracy: 0.89\n"
     ]
    }
   ],
   "source": [
    "from sklearn.model_selection import cross_val_score\n",
    "from sklearn.linear_model import LogisticRegression\n",
    "\n",
    "mean_accuracy = np.mean(cross_val_score(LogisticRegression(), X_selected, y_train, cv=5))\n",
    "print(\"Cross-validation accuracy: {:.2f}\".format(mean_accuracy))"
   ]
  },
  {
   "cell_type": "markdown",
   "metadata": {},
   "source": [
    "Looks like a decent validation accuracy, let's try on our test set."
   ]
  },
  {
   "cell_type": "code",
   "execution_count": 5,
   "metadata": {},
   "outputs": [
    {
     "data": {
      "text/plain": [
       "0.51"
      ]
     },
     "execution_count": 5,
     "metadata": {},
     "output_type": "execute_result"
    }
   ],
   "source": [
    "lr = LogisticRegression()\n",
    "lr.fit(X_train, y_train).score(X_test, y_test)"
   ]
  },
  {
   "cell_type": "markdown",
   "metadata": {},
   "source": [
    "The result is no better than random guess (50%)!! "
   ]
  },
  {
   "cell_type": "markdown",
   "metadata": {},
   "source": [
    "Now let's do a 'proper' cross validation on our model: "
   ]
  },
  {
   "cell_type": "code",
   "execution_count": 7,
   "metadata": {},
   "outputs": [
    {
     "name": "stdout",
     "output_type": "stream",
     "text": [
      "Cross-validation accuracy (pipeline): 0.49\n"
     ]
    }
   ],
   "source": [
    "from sklearn.pipeline import Pipeline\n",
    "\n",
    "\n",
    "pipeline = Pipeline([(\"select\", SelectPercentile(score_func=f_regression, percentile=5)),\n",
    "                     (\"lr\", LogisticRegression())])\n",
    "\n",
    "mean_accuracy = np.mean(cross_val_score(pipeline, X_train, y_train, cv=5))\n",
    "print(\"Cross-validation accuracy (pipeline): {:.2f}\".format(mean_accuracy))\n"
   ]
  },
  {
   "cell_type": "markdown",
   "metadata": {},
   "source": [
    "this time round, the cross-validation accuracy gives a true-er picture of the model performance (50%). "
   ]
  },
  {
   "cell_type": "code",
   "execution_count": null,
   "metadata": {},
   "outputs": [],
   "source": []
  }
 ],
 "metadata": {
  "kernelspec": {
   "display_name": "Python 3",
   "language": "python",
   "name": "python3"
  },
  "language_info": {
   "codemirror_mode": {
    "name": "ipython",
    "version": 3
   },
   "file_extension": ".py",
   "mimetype": "text/x-python",
   "name": "python",
   "nbconvert_exporter": "python",
   "pygments_lexer": "ipython3",
   "version": "3.7.6"
  }
 },
 "nbformat": 4,
 "nbformat_minor": 4
}
